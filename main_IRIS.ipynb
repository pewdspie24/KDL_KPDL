{
 "cells": [
  {
   "cell_type": "code",
   "execution_count": 3,
   "metadata": {},
   "outputs": [],
   "source": [
    "import numpy as np\n",
    "import pandas as pd\n",
    "import matplotlib.pyplot as plt\n",
    "from sklearn import neighbors\n",
    "from sklearn.neural_network import MLPClassifier\n",
    "from sklearn.metrics import accuracy_score, f1_score"
   ]
  },
  {
   "cell_type": "code",
   "execution_count": 4,
   "metadata": {},
   "outputs": [],
   "source": [
    "df_train = pd.read_csv(\"dataset/IRIS/IRIS_train.csv\", header=0)\n",
    "train_headers = list(df_train.columns.values)\n",
    "train_label = df_train.pop('species').to_numpy()\n",
    "train_data = df_train.to_numpy()\n",
    "\n",
    "df_test = pd.read_csv(\"dataset/IRIS/IRIS_test.csv\", header=0)\n",
    "test_headers = list(df_test.columns.values)\n",
    "test_label = df_test.pop('species').to_numpy()\n",
    "test_data = df_test.to_numpy()\n",
    "\n",
    "### Check lại bỏ cột value đi"
   ]
  },
  {
   "cell_type": "code",
   "execution_count": 16,
   "metadata": {},
   "outputs": [
    {
     "name": "stdout",
     "output_type": "stream",
     "text": [
      "Print results for test data points:\n",
      "Predicted labels:  [1 1 1 1 1 1 1 1 1 1 3 2 2 2 2 3 2 2 2 2 3 3 3 3 3 3 3 3 3 3]\n",
      "Ground truth    :  [1 1 1 1 1 1 1 1 1 1 2 2 2 2 2 2 2 2 2 2 3 3 3 3 3 3 3 3 3 3]\n",
      "Accuracy : 93.33333333333333%\n",
      "F1-Scores : 93.26599326599326%\n"
     ]
    }
   ],
   "source": [
    "n_neighbors = 5\n",
    "clf = neighbors.KNeighborsClassifier(n_neighbors = n_neighbors, p = 2)\n",
    "clf.fit(train_data, train_label)\n",
    "y_pred = clf.predict(test_data)\n",
    "\n",
    "print(\"Print results for test data points:\")\n",
    "print(\"Predicted labels: \", y_pred)\n",
    "print(\"Ground truth    : \", test_label)\n",
    "print(f\"Accuracy : {100*accuracy_score(test_label, y_pred)}%\")\n",
    "print(f\"F1-Scores : {100*f1_score(test_label, y_pred, average='macro')}%\")"
   ]
  },
  {
   "cell_type": "code",
   "execution_count": 14,
   "metadata": {},
   "outputs": [
    {
     "name": "stdout",
     "output_type": "stream",
     "text": [
      "Print results for test data points:\n",
      "Predicted labels:  [1 1 1 1 1 1 1 1 1 1 3 2 2 2 2 2 2 2 2 2 3 3 3 3 3 3 3 3 3 3]\n",
      "Ground truth    :  [1 1 1 1 1 1 1 1 1 1 2 2 2 2 2 2 2 2 2 2 3 3 3 3 3 3 3 3 3 3]\n",
      "Accuracy : 96.66666666666667%\n",
      "F1-Scores : 96.65831244778613%\n"
     ]
    }
   ],
   "source": [
    "clf = MLPClassifier(hidden_layer_sizes=[16,32], activation='relu', solver='adam', batch_size=16, random_state=1, max_iter=300)\n",
    "clf.fit(train_data, train_label)\n",
    "y_pred = clf.predict(test_data)\n",
    "\n",
    "print(\"Print results for test data points:\")\n",
    "print(\"Predicted labels: \", y_pred)\n",
    "print(\"Ground truth    : \", test_label)\n",
    "print(f\"Accuracy : {100*accuracy_score(test_label, y_pred)}%\")\n",
    "print(f\"F1-Scores : {100*f1_score(test_label, y_pred, average='macro')}%\")"
   ]
  }
 ],
 "metadata": {
  "interpreter": {
   "hash": "3811a34ad64e9c9be32c8a84ed601bf8b34c7ef47a367dd0ad0689f278bec2fb"
  },
  "kernelspec": {
   "display_name": "Python 3.10.4 ('kdl')",
   "language": "python",
   "name": "python3"
  },
  "language_info": {
   "codemirror_mode": {
    "name": "ipython",
    "version": 3
   },
   "file_extension": ".py",
   "mimetype": "text/x-python",
   "name": "python",
   "nbconvert_exporter": "python",
   "pygments_lexer": "ipython3",
   "version": "3.10.4"
  },
  "orig_nbformat": 4
 },
 "nbformat": 4,
 "nbformat_minor": 2
}
