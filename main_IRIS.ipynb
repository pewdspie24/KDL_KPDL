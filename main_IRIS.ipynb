{
 "cells": [
  {
   "cell_type": "code",
   "execution_count": 51,
   "metadata": {},
   "outputs": [],
   "source": [
    "import numpy as np\n",
    "import pandas as pd\n",
    "import matplotlib.pyplot as plt\n",
    "from sklearn import neighbors\n",
    "from sklearn.neural_network import MLPClassifier\n",
    "from sklearn.metrics import accuracy_score, f1_score, plot_confusion_matrix"
   ]
  },
  {
   "cell_type": "code",
   "execution_count": 52,
   "metadata": {},
   "outputs": [],
   "source": [
    "df_train = pd.read_csv(\"dataset/IRIS/IRIS_train.csv\", header=0)\n",
    "train_headers = list(df_train.columns.values)\n",
    "train_label = df_train.pop('species').to_numpy()\n",
    "train_data = df_train.to_numpy()\n",
    "\n",
    "df_test = pd.read_csv(\"dataset/IRIS/IRIS_test.csv\", header=0)\n",
    "test_headers = list(df_test.columns.values)\n",
    "test_label = df_test.pop('species').to_numpy()\n",
    "test_data = df_test.to_numpy()\n",
    "\n",
    "### Check lại bỏ cột value đi"
   ]
  },
  {
   "cell_type": "code",
   "execution_count": 57,
   "metadata": {},
   "outputs": [
    {
     "name": "stdout",
     "output_type": "stream",
     "text": [
      "Print results for test data points:\n",
      "Accuracy : 96.66666666666667%\n",
      "F1-Scores : 96.65831244778613%\n"
     ]
    },
    {
     "data": {
      "image/png": "[encoded data removed]",
      "text/plain": [
       "<Figure size 432x288 with 2 Axes>"
      ]
     },
     "metadata": {
      "needs_background": "light"
     },
     "output_type": "display_data"
    }
   ],
   "source": [
    "n_neighbors = 10\n",
    "clf = neighbors.KNeighborsClassifier(n_neighbors = n_neighbors, p = 2)\n",
    "clf.fit(train_data, train_label)\n",
    "y_pred = clf.predict(test_data)\n",
    "\n",
    "print(\"Print results for test data points:\")\n",
    "# print(\"Predicted labels: \", y_pred)\n",
    "# print(\"Ground truth    : \", test_label)\n",
    "print(f\"Accuracy : {100*accuracy_score(test_label, y_pred)}%\")\n",
    "print(f\"F1-Scores : {100*f1_score(test_label, y_pred, average='macro')}%\")\n",
    "plot_confusion_matrix(clf, test_data, test_label)\n",
    "plt.show()"
   ]
  },
  {
   "cell_type": "code",
   "execution_count": 54,
   "metadata": {},
   "outputs": [
    {
     "name": "stdout",
     "output_type": "stream",
     "text": [
      "Accuracy : 66.66666666666666% at 1 epochs\n",
      "Accuracy : 66.66666666666666% at 2 epochs\n",
      "Accuracy : 66.66666666666666% at 3 epochs\n",
      "Accuracy : 66.66666666666666% at 4 epochs\n",
      "Accuracy : 66.66666666666666% at 5 epochs\n",
      "Accuracy : 66.66666666666666% at 6 epochs\n",
      "Accuracy : 66.66666666666666% at 7 epochs\n",
      "Accuracy : 86.66666666666667% at 8 epochs\n",
      "Accuracy : 86.66666666666667% at 9 epochs\n",
      "Accuracy : 90.0% at 10 epochs\n",
      "Accuracy : 86.66666666666667% at 11 epochs\n",
      "Accuracy : 86.66666666666667% at 12 epochs\n",
      "Accuracy : 70.0% at 13 epochs\n",
      "Accuracy : 70.0% at 14 epochs\n",
      "Accuracy : 66.66666666666666% at 15 epochs\n",
      "Accuracy : 66.66666666666666% at 16 epochs\n",
      "Accuracy : 66.66666666666666% at 17 epochs\n",
      "Accuracy : 66.66666666666666% at 18 epochs\n",
      "Accuracy : 66.66666666666666% at 19 epochs\n",
      "Accuracy : 66.66666666666666% at 20 epochs\n",
      "Accuracy : 70.0% at 21 epochs\n",
      "Accuracy : 70.0% at 22 epochs\n",
      "Accuracy : 70.0% at 23 epochs\n",
      "Accuracy : 70.0% at 24 epochs\n",
      "Accuracy : 83.33333333333334% at 25 epochs\n",
      "Accuracy : 83.33333333333334% at 26 epochs\n",
      "Accuracy : 83.33333333333334% at 27 epochs\n",
      "Accuracy : 83.33333333333334% at 28 epochs\n",
      "Accuracy : 83.33333333333334% at 29 epochs\n",
      "Accuracy : 83.33333333333334% at 30 epochs\n",
      "Accuracy : 83.33333333333334% at 31 epochs\n",
      "Accuracy : 83.33333333333334% at 32 epochs\n",
      "Accuracy : 83.33333333333334% at 33 epochs\n",
      "Accuracy : 83.33333333333334% at 34 epochs\n",
      "Accuracy : 83.33333333333334% at 35 epochs\n",
      "Accuracy : 86.66666666666667% at 36 epochs\n",
      "Accuracy : 86.66666666666667% at 37 epochs\n",
      "Accuracy : 86.66666666666667% at 38 epochs\n",
      "Accuracy : 86.66666666666667% at 39 epochs\n",
      "Accuracy : 86.66666666666667% at 40 epochs\n",
      "Accuracy : 86.66666666666667% at 41 epochs\n",
      "Accuracy : 86.66666666666667% at 42 epochs\n",
      "Accuracy : 86.66666666666667% at 43 epochs\n",
      "Accuracy : 86.66666666666667% at 44 epochs\n",
      "Accuracy : 86.66666666666667% at 45 epochs\n",
      "Accuracy : 90.0% at 46 epochs\n",
      "Accuracy : 90.0% at 47 epochs\n",
      "Accuracy : 90.0% at 48 epochs\n",
      "Accuracy : 93.33333333333333% at 49 epochs\n",
      "Accuracy : 93.33333333333333% at 50 epochs\n",
      "Accuracy : 93.33333333333333% at 51 epochs\n",
      "Accuracy : 93.33333333333333% at 52 epochs\n",
      "Accuracy : 93.33333333333333% at 53 epochs\n",
      "Accuracy : 93.33333333333333% at 54 epochs\n",
      "Accuracy : 93.33333333333333% at 55 epochs\n",
      "Accuracy : 93.33333333333333% at 56 epochs\n",
      "Accuracy : 93.33333333333333% at 57 epochs\n",
      "Accuracy : 93.33333333333333% at 58 epochs\n",
      "Accuracy : 93.33333333333333% at 59 epochs\n",
      "Accuracy : 93.33333333333333% at 60 epochs\n",
      "Accuracy : 93.33333333333333% at 61 epochs\n",
      "Accuracy : 93.33333333333333% at 62 epochs\n",
      "Accuracy : 96.66666666666667% at 63 epochs\n",
      "Accuracy : 93.33333333333333% at 64 epochs\n",
      "Accuracy : 93.33333333333333% at 65 epochs\n",
      "Accuracy : 93.33333333333333% at 66 epochs\n",
      "Accuracy : 93.33333333333333% at 67 epochs\n",
      "Accuracy : 93.33333333333333% at 68 epochs\n",
      "Accuracy : 93.33333333333333% at 69 epochs\n",
      "Accuracy : 96.66666666666667% at 70 epochs\n",
      "Accuracy : 96.66666666666667% at 71 epochs\n",
      "Accuracy : 96.66666666666667% at 72 epochs\n",
      "Accuracy : 93.33333333333333% at 73 epochs\n",
      "Accuracy : 93.33333333333333% at 74 epochs\n",
      "Accuracy : 93.33333333333333% at 75 epochs\n",
      "Accuracy : 93.33333333333333% at 76 epochs\n",
      "Accuracy : 96.66666666666667% at 77 epochs\n",
      "Accuracy : 96.66666666666667% at 78 epochs\n",
      "Accuracy : 96.66666666666667% at 79 epochs\n",
      "Accuracy : 96.66666666666667% at 80 epochs\n",
      "Accuracy : 96.66666666666667% at 81 epochs\n",
      "Accuracy : 96.66666666666667% at 82 epochs\n",
      "Accuracy : 96.66666666666667% at 83 epochs\n",
      "Accuracy : 96.66666666666667% at 84 epochs\n",
      "Accuracy : 96.66666666666667% at 85 epochs\n",
      "Accuracy : 96.66666666666667% at 86 epochs\n",
      "Accuracy : 96.66666666666667% at 87 epochs\n",
      "Accuracy : 96.66666666666667% at 88 epochs\n",
      "Accuracy : 96.66666666666667% at 89 epochs\n",
      "Accuracy : 96.66666666666667% at 90 epochs\n",
      "Accuracy : 96.66666666666667% at 91 epochs\n",
      "Accuracy : 96.66666666666667% at 92 epochs\n",
      "Accuracy : 96.66666666666667% at 93 epochs\n",
      "Accuracy : 96.66666666666667% at 94 epochs\n",
      "Accuracy : 96.66666666666667% at 95 epochs\n",
      "Accuracy : 96.66666666666667% at 96 epochs\n",
      "Accuracy : 96.66666666666667% at 97 epochs\n",
      "Accuracy : 96.66666666666667% at 98 epochs\n",
      "Accuracy : 96.66666666666667% at 99 epochs\n",
      "63 96.66666666666667\n"
     ]
    }
   ],
   "source": [
    "acc_all = []\n",
    "stt = []\n",
    "max_acc = 0\n",
    "max_stt = 0\n",
    "for i in range(1,100):\n",
    "    clf = MLPClassifier(hidden_layer_sizes=[16,32], activation='relu', solver='adam', batch_size=64, random_state=1, max_iter=i)\n",
    "    clf.fit(train_data, train_label)\n",
    "    y_pred = clf.predict(test_data)\n",
    "    accu = 100*accuracy_score(test_label, y_pred)\n",
    "    print(f\"Accuracy : {accu}% at {i} epochs\")\n",
    "    stt.append(i)\n",
    "    acc_all.append(accu)\n",
    "    if accu > max_acc:\n",
    "        max_acc = accu\n",
    "        max_stt = i\n",
    "print(max_stt, max_acc)"
   ]
  },
  {
   "cell_type": "code",
   "execution_count": 56,
   "metadata": {},
   "outputs": [
    {
     "data": {
      "image/png": "[encoded data removed]",
      "text/plain": [
       "<Figure size 432x288 with 1 Axes>"
      ]
     },
     "metadata": {
      "needs_background": "light"
     },
     "output_type": "display_data"
    }
   ],
   "source": [
    "plt.plot(stt, acc_all)\n",
    "plt.xlabel('Accuracy (%)')\n",
    "plt.ylabel('Epochs')\n",
    "  \n",
    "# giving a title to my graph\n",
    "plt.title('IRIS_MLP')\n",
    "  \n",
    "# function to show the plot\n",
    "plt.show()"
   ]
  },
  {
   "cell_type": "code",
   "execution_count": 4,
   "metadata": {},
   "outputs": [
    {
     "name": "stdout",
     "output_type": "stream",
     "text": [
      "Print results for test data points:\n",
      "Predicted labels:  [1 1 1 1 1 1 1 1 1 1 3 2 2 2 2 2 2 2 2 2 3 3 3 3 3 3 3 3 3 3]\n",
      "Ground truth    :  [1 1 1 1 1 1 1 1 1 1 2 2 2 2 2 2 2 2 2 2 3 3 3 3 3 3 3 3 3 3]\n",
      "Accuracy : 96.66666666666667%\n",
      "F1-Scores : 96.65831244778613%\n"
     ]
    },
    {
     "name": "stderr",
     "output_type": "stream",
     "text": [
      "c:\\Users\\Quang\\.conda\\envs\\kdl\\lib\\site-packages\\sklearn\\utils\\deprecation.py:87: FutureWarning: Function plot_confusion_matrix is deprecated; Function `plot_confusion_matrix` is deprecated in 1.0 and will be removed in 1.2. Use one of the class methods: ConfusionMatrixDisplay.from_predictions or ConfusionMatrixDisplay.from_estimator.\n",
      "  warnings.warn(msg, category=FutureWarning)\n"
     ]
    },
    {
     "data": {
      "image/png": "[encoded data removed]",
      "text/plain": [
       "<Figure size 432x288 with 2 Axes>"
      ]
     },
     "metadata": {
      "needs_background": "light"
     },
     "output_type": "display_data"
    }
   ],
   "source": [
    "clf = MLPClassifier(hidden_layer_sizes=[16,32], activation='relu', solver='adam', batch_size=64, random_state=1, max_iter=100)\n",
    "clf.fit(train_data, train_label)\n",
    "y_pred = clf.predict(test_data)\n",
    "\n",
    "print(\"Print results for test data points:\")\n",
    "print(\"Predicted labels: \", y_pred)\n",
    "print(\"Ground truth    : \", test_label)\n",
    "print(f\"Accuracy : {100*accuracy_score(test_label, y_pred)}%\")\n",
    "print(f\"F1-Scores : {100*f1_score(test_label, y_pred, average='macro')}%\")\n",
    "plot_confusion_matrix(clf, test_data, test_label)\n",
    "plt.show()"
   ]
  }
 ],
 "metadata": {
  "interpreter": {
   "hash": "3811a34ad64e9c9be32c8a84ed601bf8b34c7ef47a367dd0ad0689f278bec2fb"
  },
  "kernelspec": {
   "display_name": "Python 3.10.4 ('kdl')",
   "language": "python",
   "name": "python3"
  },
  "language_info": {
   "codemirror_mode": {
    "name": "ipython",
    "version": 3
   },
   "file_extension": ".py",
   "mimetype": "text/x-python",
   "name": "python",
   "nbconvert_exporter": "python",
   "pygments_lexer": "ipython3",
   "version": "3.10.4"
  },
  "orig_nbformat": 4
 },
 "nbformat": 4,
 "nbformat_minor": 2
}
