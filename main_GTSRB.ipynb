{
 "cells": [
  {
   "cell_type": "code",
   "execution_count": 22,
   "metadata": {},
   "outputs": [],
   "source": [
    "%matplotlib inline\n",
    "\n",
    "import matplotlib.pyplot as plt\n",
    "import numpy as np\n",
    "import os\n",
    "import joblib\n",
    "from skimage.io import imread\n",
    "from skimage.transform import resize\n",
    "from sklearn.neural_network import MLPClassifier\n",
    "from sklearn import neighbors\n",
    "from sklearn.metrics import accuracy_score, f1_score, plot_confusion_matrix"
   ]
  },
  {
   "cell_type": "code",
   "execution_count": 24,
   "metadata": {},
   "outputs": [],
   "source": [
    "def save_resized_image(src, pklname, include, width=32, height=None):\n",
    "     \n",
    "    height = height if height is not None else width\n",
    "     \n",
    "    data = dict()\n",
    "    data['description'] = 'resized ({0}x{1}) images in rgb'.format(int(width), int(height))\n",
    "    data['label'] = []\n",
    "    data['filename'] = []\n",
    "    data['data'] = []   \n",
    "     \n",
    "    pklname = f\"{pklname}_{width}x{height}px.pkl\"\n",
    " \n",
    "    for subdir in os.listdir(src):\n",
    "        if subdir in include:\n",
    "            if subdir == '.gitkeep':\n",
    "                continue\n",
    "            print(subdir)\n",
    "            current_path = os.path.join(src, subdir)\n",
    " \n",
    "            for file in os.listdir(current_path):\n",
    "                if file[-3:] in {'jpg', 'png'}:\n",
    "                    im = imread(os.path.join(current_path, file))\n",
    "                    im = resize(im, (width, height)) #[:,:,::-1]\n",
    "                    im = np.asarray(im).flatten()\n",
    "                    data['label'].append(subdir)\n",
    "                    data['filename'].append(file)\n",
    "                    data['data'].append(im)\n",
    " \n",
    "        joblib.dump(data, pklname)"
   ]
  },
  {
   "cell_type": "code",
   "execution_count": 25,
   "metadata": {},
   "outputs": [
    {
     "name": "stdout",
     "output_type": "stream",
     "text": [
      "1\n",
      "2\n",
      "3\n",
      "4\n",
      "5\n",
      "6\n",
      "7\n",
      "1\n",
      "2\n",
      "3\n",
      "4\n",
      "5\n",
      "6\n",
      "7\n"
     ]
    }
   ],
   "source": [
    "cate = {\n",
    "    1:'Cấm ngược chiều',\n",
    "    2:'Cấm dừng và đỗ',\n",
    "    3:'Cấm rẽ',\n",
    "    4:'Giới hạn tốc độ',\n",
    "    5:'Cấm còn lại',\n",
    "    6:'Nguy hiểm',\n",
    "    7:'Hiệu lệnh'\n",
    "}\n",
    "train_path = 'dataset/GTSRB/train'\n",
    "test_path = 'dataset/GTSRB/validate'\n",
    "include = os.listdir(train_path)\n",
    "save_resized_image(src=train_path, pklname='train', width=32, include=include)\n",
    "save_resized_image(src=test_path, pklname='test', width=32, include=include)"
   ]
  },
  {
   "cell_type": "code",
   "execution_count": 26,
   "metadata": {},
   "outputs": [
    {
     "name": "stdout",
     "output_type": "stream",
     "text": [
      "number of samples:  2948\n",
      "keys:  ['description', 'label', 'filename', 'data']\n",
      "description:  resized (32x32) images in rgb\n",
      "image shape:  (3072,)\n",
      "labels: ['1' '2' '3' '4' '5' '6' '7']\n",
      "Counter({'5': 500, '6': 498, '1': 439, '2': 425, '4': 419, '7': 378, '3': 289})\n",
      "Counter({'6': 55, '5': 53, '1': 49, '2': 47, '4': 47, '7': 42, '3': 32})\n"
     ]
    }
   ],
   "source": [
    "from collections import Counter\n",
    " \n",
    "train_data = joblib.load('train_32x32px.pkl')\n",
    "test_data = joblib.load('test_32x32px.pkl')\n",
    " \n",
    "print('number of samples: ', len(train_data['data']))\n",
    "print('keys: ', list(train_data.keys()))\n",
    "print('description: ', train_data['description'])\n",
    "print('image shape: ', train_data['data'][0].shape)\n",
    "print('labels:', np.unique(train_data['label']))\n",
    " \n",
    "print(Counter(train_data['label']))\n",
    "print(Counter(test_data['label']))"
   ]
  },
  {
   "cell_type": "code",
   "execution_count": 28,
   "metadata": {},
   "outputs": [],
   "source": [
    "X_train = np.array(train_data['data'])\n",
    "y_train = np.array(train_data['label'])\n",
    "X_test = np.array(test_data['data'])\n",
    "y_test = np.array(test_data['label'])\n"
   ]
  },
  {
   "cell_type": "code",
   "execution_count": 29,
   "metadata": {},
   "outputs": [
    {
     "data": {
      "text/plain": [
       "<matplotlib.legend.Legend at 0x2307f5f8eb0>"
      ]
     },
     "execution_count": 29,
     "metadata": {},
     "output_type": "execute_result"
    },
    {
     "data": {
      "image/png": "[encoded data removed]",
      "text/plain": [
       "<Figure size 432x288 with 1 Axes>"
      ]
     },
     "metadata": {
      "needs_background": "light"
     },
     "output_type": "display_data"
    }
   ],
   "source": [
    "def plot_bar(y, loc='left', relative=True):\n",
    "    width = 0.35\n",
    "    if loc == 'left':\n",
    "        n = -0.5\n",
    "    elif loc == 'right':\n",
    "        n = 0.5\n",
    "     \n",
    "    # calculate counts per type and sort, to ensure their order\n",
    "    unique, counts = np.unique(y, return_counts=True)\n",
    "    sorted_index = np.argsort(unique)\n",
    "    unique = unique[sorted_index]\n",
    "     \n",
    "    if relative:\n",
    "        # plot as a percentage\n",
    "        counts = 100*counts[sorted_index]/len(y)\n",
    "        ylabel_text = '% count'\n",
    "    else:\n",
    "        # plot counts\n",
    "        counts = counts[sorted_index]\n",
    "        ylabel_text = 'count'\n",
    "         \n",
    "    xtemp = np.arange(len(unique))\n",
    "     \n",
    "    plt.bar(xtemp + n*width, counts, align='center', alpha=.7, width=width)\n",
    "    plt.xticks(xtemp, unique, rotation=45)\n",
    "    plt.xlabel('equipment type')\n",
    "    plt.ylabel(ylabel_text)\n",
    " \n",
    "plt.suptitle('relative amount of photos per type')\n",
    "plot_bar(y_train, loc='left')\n",
    "plot_bar(y_test, loc='right')\n",
    "plt.legend([\n",
    "    'train ({0} photos)'.format(len(y_train)), \n",
    "    'test ({0} photos)'.format(len(y_test))\n",
    "])"
   ]
  },
  {
   "cell_type": "code",
   "execution_count": 30,
   "metadata": {},
   "outputs": [
    {
     "name": "stdout",
     "output_type": "stream",
     "text": [
      "(2948, 3072)\n"
     ]
    }
   ],
   "source": [
    "print(X_train.shape)"
   ]
  },
  {
   "cell_type": "code",
   "execution_count": 31,
   "metadata": {},
   "outputs": [
    {
     "name": "stdout",
     "output_type": "stream",
     "text": [
      "Print results for test data points:\n",
      "Accuracy : 87.38461538461539%\n",
      "F1-Scores : 86.4514173338449%\n"
     ]
    },
    {
     "name": "stderr",
     "output_type": "stream",
     "text": [
      "c:\\Users\\Quang\\.conda\\envs\\kdl\\lib\\site-packages\\sklearn\\utils\\deprecation.py:87: FutureWarning: Function plot_confusion_matrix is deprecated; Function `plot_confusion_matrix` is deprecated in 1.0 and will be removed in 1.2. Use one of the class methods: ConfusionMatrixDisplay.from_predictions or ConfusionMatrixDisplay.from_estimator.\n",
      "  warnings.warn(msg, category=FutureWarning)\n"
     ]
    },
    {
     "data": {
      "image/png": "[encoded data removed]",
      "text/plain": [
       "<Figure size 432x288 with 2 Axes>"
      ]
     },
     "metadata": {
      "needs_background": "light"
     },
     "output_type": "display_data"
    }
   ],
   "source": [
    "n_neighbors = 10\n",
    "clf = neighbors.KNeighborsClassifier(n_neighbors = n_neighbors, p = 2)\n",
    "clf.fit(X_train, y_train)\n",
    "y_pred = clf.predict(X_test)\n",
    "\n",
    "print(\"Print results for test data points:\")\n",
    "# print(\"Predicted labels: \", y_pred)\n",
    "# print(\"Ground truth    : \", y_test)\n",
    "print(f\"Accuracy : {100*accuracy_score(y_test, y_pred)}%\")\n",
    "print(f\"F1-Scores : {100*f1_score(y_test, y_pred, average='macro')}%\")\n",
    "plot_confusion_matrix(clf, X_test, y_test)\n",
    "plt.show()"
   ]
  },
  {
   "cell_type": "code",
   "execution_count": 32,
   "metadata": {},
   "outputs": [
    {
     "name": "stdout",
     "output_type": "stream",
     "text": [
      "Accuracy : 55.38461538461539% at 1 epochs\n",
      "Accuracy : 75.07692307692308% at 2 epochs\n",
      "Accuracy : 79.07692307692308% at 3 epochs\n",
      "Accuracy : 81.53846153846153% at 4 epochs\n",
      "Accuracy : 81.53846153846153% at 5 epochs\n",
      "Accuracy : 84.61538461538461% at 6 epochs\n",
      "Accuracy : 80.92307692307692% at 7 epochs\n",
      "Accuracy : 84.3076923076923% at 8 epochs\n",
      "Accuracy : 87.07692307692308% at 9 epochs\n",
      "Accuracy : 88.3076923076923% at 10 epochs\n",
      "Accuracy : 88.61538461538461% at 11 epochs\n",
      "Accuracy : 87.6923076923077% at 12 epochs\n",
      "Accuracy : 89.23076923076924% at 13 epochs\n",
      "Accuracy : 89.53846153846153% at 14 epochs\n",
      "Accuracy : 90.46153846153845% at 15 epochs\n",
      "Accuracy : 90.76923076923077% at 16 epochs\n",
      "Accuracy : 90.15384615384615% at 17 epochs\n",
      "Accuracy : 89.53846153846153% at 18 epochs\n",
      "Accuracy : 90.76923076923077% at 19 epochs\n",
      "Accuracy : 92.3076923076923% at 20 epochs\n",
      "Accuracy : 92.3076923076923% at 21 epochs\n",
      "Accuracy : 92.3076923076923% at 22 epochs\n",
      "Accuracy : 91.07692307692308% at 23 epochs\n",
      "Accuracy : 91.38461538461539% at 24 epochs\n",
      "Accuracy : 90.76923076923077% at 25 epochs\n",
      "Accuracy : 91.6923076923077% at 26 epochs\n",
      "Accuracy : 93.23076923076923% at 27 epochs\n",
      "Accuracy : 92.3076923076923% at 28 epochs\n",
      "Accuracy : 89.84615384615384% at 29 epochs\n",
      "Accuracy : 91.6923076923077% at 30 epochs\n",
      "Accuracy : 93.23076923076923% at 31 epochs\n",
      "Accuracy : 90.46153846153845% at 32 epochs\n",
      "Accuracy : 90.46153846153845% at 33 epochs\n",
      "Accuracy : 91.38461538461539% at 34 epochs\n",
      "Accuracy : 91.07692307692308% at 35 epochs\n",
      "Accuracy : 92.3076923076923% at 36 epochs\n",
      "Accuracy : 92.61538461538461% at 37 epochs\n",
      "Accuracy : 92.61538461538461% at 38 epochs\n",
      "Accuracy : 93.23076923076923% at 39 epochs\n",
      "Accuracy : 92.61538461538461% at 40 epochs\n",
      "Accuracy : 92.92307692307692% at 41 epochs\n",
      "Accuracy : 93.53846153846153% at 42 epochs\n",
      "Accuracy : 92.92307692307692% at 43 epochs\n",
      "Accuracy : 92.61538461538461% at 44 epochs\n",
      "Accuracy : 90.76923076923077% at 45 epochs\n",
      "Accuracy : 93.53846153846153% at 46 epochs\n",
      "Accuracy : 92.92307692307692% at 47 epochs\n",
      "Accuracy : 93.84615384615384% at 48 epochs\n",
      "Accuracy : 93.23076923076923% at 49 epochs\n",
      "Accuracy : 93.53846153846153% at 50 epochs\n",
      "Accuracy : 92.61538461538461% at 51 epochs\n",
      "Accuracy : 93.23076923076923% at 52 epochs\n",
      "Accuracy : 92.92307692307692% at 53 epochs\n",
      "Accuracy : 92.92307692307692% at 54 epochs\n",
      "Accuracy : 94.15384615384616% at 55 epochs\n",
      "Accuracy : 93.23076923076923% at 56 epochs\n",
      "Accuracy : 93.84615384615384% at 57 epochs\n",
      "Accuracy : 92.92307692307692% at 58 epochs\n",
      "Accuracy : 93.23076923076923% at 59 epochs\n",
      "Accuracy : 92.61538461538461% at 60 epochs\n",
      "Accuracy : 94.15384615384616% at 61 epochs\n",
      "Accuracy : 93.53846153846153% at 62 epochs\n",
      "Accuracy : 94.15384615384616% at 63 epochs\n",
      "Accuracy : 94.15384615384616% at 64 epochs\n",
      "Accuracy : 93.84615384615384% at 65 epochs\n",
      "Accuracy : 94.46153846153847% at 66 epochs\n",
      "Accuracy : 92.61538461538461% at 67 epochs\n",
      "Accuracy : 92.61538461538461% at 68 epochs\n",
      "Accuracy : 93.53846153846153% at 69 epochs\n",
      "Accuracy : 92.3076923076923% at 70 epochs\n",
      "Accuracy : 94.76923076923077% at 71 epochs\n",
      "Accuracy : 93.84615384615384% at 72 epochs\n",
      "Accuracy : 94.76923076923077% at 73 epochs\n",
      "Accuracy : 94.76923076923077% at 74 epochs\n",
      "Accuracy : 94.46153846153847% at 75 epochs\n",
      "Accuracy : 93.53846153846153% at 76 epochs\n",
      "Accuracy : 94.76923076923077% at 77 epochs\n",
      "Accuracy : 94.15384615384616% at 78 epochs\n",
      "Accuracy : 93.53846153846153% at 79 epochs\n",
      "Accuracy : 93.84615384615384% at 80 epochs\n",
      "Accuracy : 94.76923076923077% at 81 epochs\n",
      "Accuracy : 93.84615384615384% at 82 epochs\n",
      "Accuracy : 94.46153846153847% at 83 epochs\n",
      "Accuracy : 95.07692307692308% at 84 epochs\n",
      "Accuracy : 94.76923076923077% at 85 epochs\n",
      "Accuracy : 95.07692307692308% at 86 epochs\n",
      "Accuracy : 94.76923076923077% at 87 epochs\n",
      "Accuracy : 94.46153846153847% at 88 epochs\n",
      "Accuracy : 95.07692307692308% at 89 epochs\n",
      "Accuracy : 93.53846153846153% at 90 epochs\n",
      "Accuracy : 92.92307692307692% at 91 epochs\n",
      "Accuracy : 93.84615384615384% at 92 epochs\n",
      "Accuracy : 94.15384615384616% at 93 epochs\n",
      "Accuracy : 93.84615384615384% at 94 epochs\n",
      "Accuracy : 95.38461538461539% at 95 epochs\n",
      "Accuracy : 95.07692307692308% at 96 epochs\n",
      "Accuracy : 94.76923076923077% at 97 epochs\n",
      "Accuracy : 94.15384615384616% at 98 epochs\n",
      "Accuracy : 95.38461538461539% at 99 epochs\n",
      "95 95.38461538461539\n"
     ]
    }
   ],
   "source": [
    "import warnings\n",
    "warnings.filterwarnings('ignore')\n",
    "acc_all = []\n",
    "stt = []\n",
    "max_acc = 0\n",
    "max_stt = 0\n",
    "for i in range(1,100):\n",
    "    clf = MLPClassifier(hidden_layer_sizes=[16,32], activation='relu', solver='adam', batch_size=64, random_state=1, max_iter=i)\n",
    "    clf.fit(X_train, y_train)\n",
    "    y_pred = clf.predict(X_test)\n",
    "    accu = 100*accuracy_score(y_test, y_pred)\n",
    "    print(f\"Accuracy : {accu}% at {i} epochs\")\n",
    "    stt.append(i)\n",
    "    acc_all.append(accu)\n",
    "    if accu > max_acc:\n",
    "        max_acc = accu\n",
    "        max_stt = i\n",
    "print(max_stt, max_acc)"
   ]
  },
  {
   "cell_type": "code",
   "execution_count": 33,
   "metadata": {},
   "outputs": [
    {
     "data": {
      "image/png": "[encoded data removed]",
      "text/plain": [
       "<Figure size 432x288 with 1 Axes>"
      ]
     },
     "metadata": {
      "needs_background": "light"
     },
     "output_type": "display_data"
    }
   ],
   "source": [
    "plt.plot(stt, acc_all)\n",
    "plt.xlabel('Accuracy (%)')\n",
    "plt.ylabel('Epochs')\n",
    "  \n",
    "# giving a title to my graph\n",
    "plt.title('GTSRB_MLP')\n",
    "  \n",
    "# function to show the plot\n",
    "plt.show()"
   ]
  },
  {
   "cell_type": "code",
   "execution_count": 34,
   "metadata": {},
   "outputs": [
    {
     "data": {
      "text/html": [
       "<style>#sk-container-id-3 {color: black;background-color: white;}#sk-container-id-3 pre{padding: 0;}#sk-container-id-3 div.sk-toggleable {background-color: white;}#sk-container-id-3 label.sk-toggleable__label {cursor: pointer;display: block;width: 100%;margin-bottom: 0;padding: 0.3em;box-sizing: border-box;text-align: center;}#sk-container-id-3 label.sk-toggleable__label-arrow:before {content: \"▸\";float: left;margin-right: 0.25em;color: #696969;}#sk-container-id-3 label.sk-toggleable__label-arrow:hover:before {color: black;}#sk-container-id-3 div.sk-estimator:hover label.sk-toggleable__label-arrow:before {color: black;}#sk-container-id-3 div.sk-toggleable__content {max-height: 0;max-width: 0;overflow: hidden;text-align: left;background-color: #f0f8ff;}#sk-container-id-3 div.sk-toggleable__content pre {margin: 0.2em;color: black;border-radius: 0.25em;background-color: #f0f8ff;}#sk-container-id-3 input.sk-toggleable__control:checked~div.sk-toggleable__content {max-height: 200px;max-width: 100%;overflow: auto;}#sk-container-id-3 input.sk-toggleable__control:checked~label.sk-toggleable__label-arrow:before {content: \"▾\";}#sk-container-id-3 div.sk-estimator input.sk-toggleable__control:checked~label.sk-toggleable__label {background-color: #d4ebff;}#sk-container-id-3 div.sk-label input.sk-toggleable__control:checked~label.sk-toggleable__label {background-color: #d4ebff;}#sk-container-id-3 input.sk-hidden--visually {border: 0;clip: rect(1px 1px 1px 1px);clip: rect(1px, 1px, 1px, 1px);height: 1px;margin: -1px;overflow: hidden;padding: 0;position: absolute;width: 1px;}#sk-container-id-3 div.sk-estimator {font-family: monospace;background-color: #f0f8ff;border: 1px dotted black;border-radius: 0.25em;box-sizing: border-box;margin-bottom: 0.5em;}#sk-container-id-3 div.sk-estimator:hover {background-color: #d4ebff;}#sk-container-id-3 div.sk-parallel-item::after {content: \"\";width: 100%;border-bottom: 1px solid gray;flex-grow: 1;}#sk-container-id-3 div.sk-label:hover label.sk-toggleable__label {background-color: #d4ebff;}#sk-container-id-3 div.sk-serial::before {content: \"\";position: absolute;border-left: 1px solid gray;box-sizing: border-box;top: 0;bottom: 0;left: 50%;z-index: 0;}#sk-container-id-3 div.sk-serial {display: flex;flex-direction: column;align-items: center;background-color: white;padding-right: 0.2em;padding-left: 0.2em;position: relative;}#sk-container-id-3 div.sk-item {position: relative;z-index: 1;}#sk-container-id-3 div.sk-parallel {display: flex;align-items: stretch;justify-content: center;background-color: white;position: relative;}#sk-container-id-3 div.sk-item::before, #sk-container-id-3 div.sk-parallel-item::before {content: \"\";position: absolute;border-left: 1px solid gray;box-sizing: border-box;top: 0;bottom: 0;left: 50%;z-index: -1;}#sk-container-id-3 div.sk-parallel-item {display: flex;flex-direction: column;z-index: 1;position: relative;background-color: white;}#sk-container-id-3 div.sk-parallel-item:first-child::after {align-self: flex-end;width: 50%;}#sk-container-id-3 div.sk-parallel-item:last-child::after {align-self: flex-start;width: 50%;}#sk-container-id-3 div.sk-parallel-item:only-child::after {width: 0;}#sk-container-id-3 div.sk-dashed-wrapped {border: 1px dashed gray;margin: 0 0.4em 0.5em 0.4em;box-sizing: border-box;padding-bottom: 0.4em;background-color: white;}#sk-container-id-3 div.sk-label label {font-family: monospace;font-weight: bold;display: inline-block;line-height: 1.2em;}#sk-container-id-3 div.sk-label-container {text-align: center;}#sk-container-id-3 div.sk-container {/* jupyter's `normalize.less` sets `[hidden] { display: none; }` but bootstrap.min.css set `[hidden] { display: none !important; }` so we also need the `!important` here to be able to override the default hidden behavior on the sphinx rendered scikit-learn.org. See: https://github.com/scikit-learn/scikit-learn/issues/21755 */display: inline-block !important;position: relative;}#sk-container-id-3 div.sk-text-repr-fallback {display: none;}</style><div id=\"sk-container-id-3\" class=\"sk-top-container\"><div class=\"sk-text-repr-fallback\"><pre>MLPClassifier(batch_size=64, hidden_layer_sizes=[16, 32], max_iter=95,\n",
       "              random_state=1)</pre><b>In a Jupyter environment, please rerun this cell to show the HTML representation or trust the notebook. <br />On GitHub, the HTML representation is unable to render, please try loading this page with nbviewer.org.</b></div><div class=\"sk-container\" hidden><div class=\"sk-item\"><div class=\"sk-estimator sk-toggleable\"><input class=\"sk-toggleable__control sk-hidden--visually\" id=\"sk-estimator-id-3\" type=\"checkbox\" checked><label for=\"sk-estimator-id-3\" class=\"sk-toggleable__label sk-toggleable__label-arrow\">MLPClassifier</label><div class=\"sk-toggleable__content\"><pre>MLPClassifier(batch_size=64, hidden_layer_sizes=[16, 32], max_iter=95,\n",
       "              random_state=1)</pre></div></div></div></div></div>"
      ],
      "text/plain": [
       "MLPClassifier(batch_size=64, hidden_layer_sizes=[16, 32], max_iter=95,\n",
       "              random_state=1)"
      ]
     },
     "execution_count": 34,
     "metadata": {},
     "output_type": "execute_result"
    }
   ],
   "source": [
    "clf = MLPClassifier(hidden_layer_sizes=[16,32], activation='relu', solver='adam', batch_size=64, random_state=1, max_iter=95)\n",
    "clf.fit(X_train, y_train)"
   ]
  },
  {
   "cell_type": "code",
   "execution_count": 35,
   "metadata": {},
   "outputs": [
    {
     "name": "stdout",
     "output_type": "stream",
     "text": [
      "Print results for 20 test data points:\n",
      "Accuracy: 95.38461538461539%\n",
      "F1-Scores: 95.28863509081263%\n"
     ]
    },
    {
     "data": {
      "image/png": "[encoded data removed]",
      "text/plain": [
       "<Figure size 432x288 with 2 Axes>"
      ]
     },
     "metadata": {
      "needs_background": "light"
     },
     "output_type": "display_data"
    }
   ],
   "source": [
    "y_pred = clf.predict(X_test)\n",
    "\n",
    "print(\"Print results for 20 test data points:\")\n",
    "# print(\"Predicted labels: \", y_pred)\n",
    "# print(\"Ground truth    : \", y_test)\n",
    "print(f\"Accuracy: {100*accuracy_score(y_test, y_pred)}%\")\n",
    "print(f\"F1-Scores: {100*f1_score(y_test, y_pred, average='macro')}%\")\n",
    "plot_confusion_matrix(clf, X_test, y_test)\n",
    "plt.show()"
   ]
  }
 ],
 "metadata": {
  "interpreter": {
   "hash": "3811a34ad64e9c9be32c8a84ed601bf8b34c7ef47a367dd0ad0689f278bec2fb"
  },
  "kernelspec": {
   "display_name": "Python 3.10.4 ('kdl')",
   "language": "python",
   "name": "python3"
  },
  "language_info": {
   "codemirror_mode": {
    "name": "ipython",
    "version": 3
   },
   "file_extension": ".py",
   "mimetype": "text/x-python",
   "name": "python",
   "nbconvert_exporter": "python",
   "pygments_lexer": "ipython3",
   "version": "3.10.4"
  },
  "orig_nbformat": 4
 },
 "nbformat": 4,
 "nbformat_minor": 2
}
